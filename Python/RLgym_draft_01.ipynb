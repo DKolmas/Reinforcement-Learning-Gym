{
  "nbformat": 4,
  "nbformat_minor": 0,
  "metadata": {
    "colab": {
      "name": "RLgym_draft_01.ipynb",
      "version": "0.3.2",
      "provenance": [],
      "collapsed_sections": [],
      "include_colab_link": true
    },
    "kernelspec": {
      "name": "python3",
      "display_name": "Python 3"
    }
  },
  "cells": [
    {
      "cell_type": "markdown",
      "metadata": {
        "id": "view-in-github",
        "colab_type": "text"
      },
      "source": [
        "[View in Colaboratory](https://colab.research.google.com/github/DKolmas/Reinforcement-Learning-Gym/blob/master/Python/RLgym_draft_01.ipynb)"
      ]
    },
    {
      "metadata": {
        "id": "DyZMdqJtflmt",
        "colab_type": "text"
      },
      "cell_type": "markdown",
      "source": [
        "We will add here content as we progress"
      ]
    },
    {
      "metadata": {
        "id": "E_tXf-BSfq3P",
        "colab_type": "code",
        "colab": {}
      },
      "cell_type": "code",
      "source": [
        ""
      ],
      "execution_count": 0,
      "outputs": []
    }
  ]
}